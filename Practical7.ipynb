{
 "cells": [
  {
   "cell_type": "code",
   "execution_count": 9,
   "id": "21b8a208",
   "metadata": {},
   "outputs": [
    {
     "name": "stdout",
     "output_type": "stream",
     "text": [
      "[1, 2, 3, 4]\n"
     ]
    }
   ],
   "source": [
    "#sets\n",
    "#Unordered and immutable collection of items or elementes\n",
    "\n",
    "\n",
    "#list and tuple----ordered\n",
    "l=[1,2,3,4]\n",
    "print(l)"
   ]
  },
  {
   "cell_type": "code",
   "execution_count": null,
   "id": "976506b6",
   "metadata": {},
   "outputs": [],
   "source": [
    "#set {1,2,3,2}\n",
    "\n",
    "#it starts with curly braces\n",
    "\n",
    "#it does not allow duplicate values\n",
    "\n",
    "#Use cases\n",
    "#it helps in removing duplicate values\n",
    "\n",
    "#Union, intersection and diffrence(mathamatical operation)"
   ]
  },
  {
   "cell_type": "code",
   "execution_count": 1,
   "id": "aeb8b060",
   "metadata": {
    "scrolled": true
   },
   "outputs": [
    {
     "name": "stdout",
     "output_type": "stream",
     "text": [
      "{1, 2, 3, 4}\n"
     ]
    }
   ],
   "source": [
    "my_set={1,2,3,4}\n",
    "print(my_set)"
   ]
  },
  {
   "cell_type": "code",
   "execution_count": 11,
   "id": "7dc8d700",
   "metadata": {
    "scrolled": true
   },
   "outputs": [
    {
     "name": "stdout",
     "output_type": "stream",
     "text": [
      "{1, 2, 3, 4, 5, 6}\n"
     ]
    }
   ],
   "source": [
    "my_set2={1,2,3,4,5,4,6,4,6,4,}\n",
    "print(my_set2)"
   ]
  },
  {
   "cell_type": "code",
   "execution_count": 12,
   "id": "e75b4691",
   "metadata": {
    "scrolled": true
   },
   "outputs": [
    {
     "name": "stdout",
     "output_type": "stream",
     "text": [
      "{'apple', 'guava', 'banana'}\n"
     ]
    }
   ],
   "source": [
    "fruits={'apple','banana','guava'}\n",
    "print(fruits)"
   ]
  },
  {
   "cell_type": "code",
   "execution_count": 13,
   "id": "f71f8bef",
   "metadata": {
    "scrolled": true
   },
   "outputs": [
    {
     "name": "stdout",
     "output_type": "stream",
     "text": [
      "{'apple', 'guava', 'banana'}\n"
     ]
    }
   ],
   "source": [
    "fruits={'apple','banana','guava','apple'}\n",
    "print(fruits)"
   ]
  },
  {
   "cell_type": "code",
   "execution_count": 14,
   "id": "6cde3362",
   "metadata": {},
   "outputs": [
    {
     "name": "stdout",
     "output_type": "stream",
     "text": [
      "{'apple', 'banana', 'Apple', 'guava', 'APPLE'}\n"
     ]
    }
   ],
   "source": [
    "fruits={'apple','banana','guava','APPLE','Apple'}  #uppercase lowercase\n",
    "print(fruits)"
   ]
  },
  {
   "cell_type": "code",
   "execution_count": 4,
   "id": "a9023d91",
   "metadata": {},
   "outputs": [
    {
     "name": "stdout",
     "output_type": "stream",
     "text": [
      "{'6', '7', '4', '2', '1', '3', '5'}\n"
     ]
    }
   ],
   "source": [
    "a=set('12334535677')\n",
    "print(a)"
   ]
  },
  {
   "cell_type": "code",
   "execution_count": 15,
   "id": "b9d0adf5",
   "metadata": {},
   "outputs": [
    {
     "name": "stdout",
     "output_type": "stream",
     "text": [
      "{'o', 'l', 'e', 'h'}\n"
     ]
    }
   ],
   "source": [
    "#{}\n",
    "#set() constructor\n",
    "\n",
    "#fruits=set()\n",
    "letters=set('hello')\n",
    "print(letters)"
   ]
  },
  {
   "cell_type": "code",
   "execution_count": 16,
   "id": "77758884",
   "metadata": {},
   "outputs": [
    {
     "name": "stdout",
     "output_type": "stream",
     "text": [
      "{'p', 'u', 'j', 'a', 'r', 'i'}\n"
     ]
    }
   ],
   "source": [
    "a=set('jaipur')\n",
    "print(a)"
   ]
  },
  {
   "cell_type": "code",
   "execution_count": 17,
   "id": "aa30de9a",
   "metadata": {},
   "outputs": [
    {
     "name": "stdout",
     "output_type": "stream",
     "text": [
      "{'6', '7', '0', '4', '2', '1', '3', '9', '8', '5'}\n"
     ]
    }
   ],
   "source": [
    "a=set('1234567890987767')\n",
    "print(a)"
   ]
  },
  {
   "cell_type": "code",
   "execution_count": 18,
   "id": "21762102",
   "metadata": {},
   "outputs": [
    {
     "name": "stdout",
     "output_type": "stream",
     "text": [
      "<class 'set'>\n"
     ]
    }
   ],
   "source": [
    "empty_set=set()\n",
    "print(type(empty_set))"
   ]
  },
  {
   "cell_type": "code",
   "execution_count": 19,
   "id": "117d8533",
   "metadata": {},
   "outputs": [
    {
     "name": "stdout",
     "output_type": "stream",
     "text": [
      "{1, 2, 3, 4}\n"
     ]
    }
   ],
   "source": [
    "#set operations\n",
    "#add\n",
    "#delete\n",
    "\n",
    "\n",
    "\n",
    "#add()\n",
    "\n",
    "numbers={1,2,3}\n",
    "numbers.add(4)\n",
    "print(numbers)\n",
    "\n",
    "\n",
    "#set_name.add(element to be added)"
   ]
  },
  {
   "cell_type": "code",
   "execution_count": 42,
   "id": "2fb3d10c",
   "metadata": {},
   "outputs": [
    {
     "name": "stdout",
     "output_type": "stream",
     "text": [
      "{4}\n"
     ]
    }
   ],
   "source": [
    "#remove\n",
    "#remove()\n",
    "#set_name.remove(element to be removed)\n",
    "numbers.remove(1)\n",
    "print(numbers)\n"
   ]
  },
  {
   "cell_type": "code",
   "execution_count": 38,
   "id": "cb43d593",
   "metadata": {},
   "outputs": [
    {
     "ename": "KeyError",
     "evalue": "5",
     "output_type": "error",
     "traceback": [
      "\u001b[1;31m---------------------------------------------------------------------------\u001b[0m",
      "\u001b[1;31mKeyError\u001b[0m                                  Traceback (most recent call last)",
      "Cell \u001b[1;32mIn[38], line 1\u001b[0m\n\u001b[1;32m----> 1\u001b[0m numbers\u001b[38;5;241m.\u001b[39mremove(\u001b[38;5;241m5\u001b[39m)\n",
      "\u001b[1;31mKeyError\u001b[0m: 5"
     ]
    }
   ],
   "source": [
    "numbers.remove(5)"
   ]
  },
  {
   "cell_type": "code",
   "execution_count": 39,
   "id": "67f54236",
   "metadata": {},
   "outputs": [
    {
     "name": "stdout",
     "output_type": "stream",
     "text": [
      "{1, 4}\n"
     ]
    }
   ],
   "source": [
    "#discard\n",
    "#set_name.discard(6)\n",
    "numbers.discard(6)\n",
    "print(numbers)"
   ]
  },
  {
   "cell_type": "code",
   "execution_count": 40,
   "id": "59636ed1",
   "metadata": {},
   "outputs": [],
   "source": [
    "#remove and discard method both are used to remove the elements from the set but the discard\n",
    "#method does not allow any error if the specific element is not found"
   ]
  },
  {
   "cell_type": "code",
   "execution_count": 2,
   "id": "a4162d9c",
   "metadata": {},
   "outputs": [
    {
     "ename": "NameError",
     "evalue": "name 'numbers' is not defined",
     "output_type": "error",
     "traceback": [
      "\u001b[1;31m---------------------------------------------------------------------------\u001b[0m",
      "\u001b[1;31mNameError\u001b[0m                                 Traceback (most recent call last)",
      "Cell \u001b[1;32mIn[2], line 2\u001b[0m\n\u001b[0;32m      1\u001b[0m \u001b[38;5;66;03m#pop method\u001b[39;00m\n\u001b[1;32m----> 2\u001b[0m numbers\u001b[38;5;241m.\u001b[39mpop()\n",
      "\u001b[1;31mNameError\u001b[0m: name 'numbers' is not defined"
     ]
    }
   ],
   "source": [
    "#pop method\n",
    "numbers.pop()"
   ]
  },
  {
   "cell_type": "code",
   "execution_count": 3,
   "id": "ee8eec16",
   "metadata": {},
   "outputs": [
    {
     "name": "stdout",
     "output_type": "stream",
     "text": [
      "True\n"
     ]
    }
   ],
   "source": [
    "#membership checking\n",
    "numbers={1,2,3,4,5,6,7}\n",
    "print(2 in numbers)"
   ]
  },
  {
   "cell_type": "code",
   "execution_count": 45,
   "id": "de8d9468",
   "metadata": {},
   "outputs": [
    {
     "name": "stdout",
     "output_type": "stream",
     "text": [
      "False\n"
     ]
    }
   ],
   "source": [
    "print(9 in numbers)"
   ]
  },
  {
   "cell_type": "code",
   "execution_count": 46,
   "id": "cdb2e2cf",
   "metadata": {},
   "outputs": [],
   "source": [
    "#clearing the set\n",
    "#clear()\n",
    "#set_name.clear()\n",
    "\n",
    "#clear method removes all the elements from the set but the structure of the set is not deleted\n",
    "\n",
    "numbers.clear()"
   ]
  },
  {
   "cell_type": "code",
   "execution_count": 47,
   "id": "3f4dc76b",
   "metadata": {},
   "outputs": [
    {
     "name": "stdout",
     "output_type": "stream",
     "text": [
      "set()\n"
     ]
    }
   ],
   "source": [
    "print(numbers)"
   ]
  },
  {
   "cell_type": "code",
   "execution_count": 48,
   "id": "0caa55bb",
   "metadata": {},
   "outputs": [],
   "source": [
    "#deleting the set\n",
    "#del keyword\n",
    "#del set_name\n",
    "\n",
    "a={1,2,3}\n",
    "del a"
   ]
  },
  {
   "cell_type": "code",
   "execution_count": 49,
   "id": "28c0c1a8",
   "metadata": {},
   "outputs": [
    {
     "ename": "NameError",
     "evalue": "name 'a' is not defined",
     "output_type": "error",
     "traceback": [
      "\u001b[1;31m---------------------------------------------------------------------------\u001b[0m",
      "\u001b[1;31mNameError\u001b[0m                                 Traceback (most recent call last)",
      "Cell \u001b[1;32mIn[49], line 1\u001b[0m\n\u001b[1;32m----> 1\u001b[0m \u001b[38;5;28mprint\u001b[39m(a)\n",
      "\u001b[1;31mNameError\u001b[0m: name 'a' is not defined"
     ]
    }
   ],
   "source": [
    "print(a)"
   ]
  },
  {
   "cell_type": "code",
   "execution_count": null,
   "id": "1a5220f3",
   "metadata": {},
   "outputs": [],
   "source": []
  }
 ],
 "metadata": {
  "kernelspec": {
   "display_name": "Python 3 (ipykernel)",
   "language": "python",
   "name": "python3"
  },
  "language_info": {
   "codemirror_mode": {
    "name": "ipython",
    "version": 3
   },
   "file_extension": ".py",
   "mimetype": "text/x-python",
   "name": "python",
   "nbconvert_exporter": "python",
   "pygments_lexer": "ipython3",
   "version": "3.11.5"
  }
 },
 "nbformat": 4,
 "nbformat_minor": 5
}
