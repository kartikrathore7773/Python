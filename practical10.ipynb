{
 "cells": [
  {
   "cell_type": "code",
   "execution_count": 3,
   "id": "ce056250-f015-448a-bc2c-7e2c6815b307",
   "metadata": {},
   "outputs": [
    {
     "name": "stdout",
     "output_type": "stream",
     "text": [
      "1,1\n",
      "1,2\n",
      "1,3\n",
      "1,4\n",
      "1,5\n",
      "1,6\n",
      "1,7\n",
      "1,8\n",
      "1,9\n",
      "1,10\n",
      "2,1\n",
      "2,2\n",
      "2,3\n",
      "2,4\n",
      "2,5\n",
      "2,6\n",
      "2,7\n",
      "2,8\n",
      "2,9\n",
      "2,10\n",
      "3,1\n",
      "3,2\n",
      "3,3\n",
      "3,4\n",
      "3,5\n",
      "3,6\n",
      "3,7\n",
      "3,8\n",
      "3,9\n",
      "3,10\n",
      "4,1\n",
      "4,2\n",
      "4,3\n",
      "4,4\n",
      "4,5\n",
      "4,6\n",
      "4,7\n",
      "4,8\n",
      "4,9\n",
      "4,10\n",
      "5,1\n",
      "5,2\n",
      "5,3\n",
      "5,4\n",
      "5,5\n",
      "5,6\n",
      "5,7\n",
      "5,8\n",
      "5,9\n",
      "5,10\n",
      "6,1\n",
      "6,2\n",
      "6,3\n",
      "6,4\n",
      "6,5\n",
      "6,6\n",
      "6,7\n",
      "6,8\n",
      "6,9\n",
      "6,10\n",
      "7,1\n",
      "7,2\n",
      "7,3\n",
      "7,4\n",
      "7,5\n",
      "7,6\n",
      "7,7\n",
      "7,8\n",
      "7,9\n",
      "7,10\n",
      "8,1\n",
      "8,2\n",
      "8,3\n",
      "8,4\n",
      "8,5\n",
      "8,6\n",
      "8,7\n",
      "8,8\n",
      "8,9\n",
      "8,10\n",
      "9,1\n",
      "9,2\n",
      "9,3\n",
      "9,4\n",
      "9,5\n",
      "9,6\n",
      "9,7\n",
      "9,8\n",
      "9,9\n",
      "9,10\n",
      "10,1\n",
      "10,2\n",
      "10,3\n",
      "10,4\n",
      "10,5\n",
      "10,6\n",
      "10,7\n",
      "10,8\n",
      "10,9\n",
      "10,10\n"
     ]
    }
   ],
   "source": [
    "#loops\n",
    "#for loop\n",
    "#while loop\n",
    "#nested loop\n",
    "\n",
    "for i in range(1,11):\n",
    "    for j in range(1,11):\n",
    "        print(f'{i},{j}')"
   ]
  },
  {
   "cell_type": "code",
   "execution_count": null,
   "id": "d5a4a698-8140-4efd-a16d-78f91477a059",
   "metadata": {},
   "outputs": [],
   "source": [
    "#use case\n",
    "\n",
    "#to work multi dimensional data\n",
    "#to find out possible combinations\n"
   ]
  },
  {
   "cell_type": "code",
   "execution_count": 4,
   "id": "3a6fe6b5-0b41-4560-9dcc-1783d870b5b6",
   "metadata": {},
   "outputs": [
    {
     "name": "stdout",
     "output_type": "stream",
     "text": [
      "L1---1,L2----1\n",
      "L1---1,L2----2\n",
      "L1---1,L2----3\n",
      "L1---1,L2----4\n",
      "L1---1,L2----5\n",
      "L1---2,L2----1\n",
      "L1---2,L2----2\n",
      "L1---2,L2----3\n",
      "L1---2,L2----4\n",
      "L1---2,L2----5\n",
      "L1---3,L2----1\n",
      "L1---3,L2----2\n",
      "L1---3,L2----3\n",
      "L1---3,L2----4\n",
      "L1---3,L2----5\n",
      "L1---4,L2----1\n",
      "L1---4,L2----2\n",
      "L1---4,L2----3\n",
      "L1---4,L2----4\n",
      "L1---4,L2----5\n",
      "L1---5,L2----1\n",
      "L1---5,L2----2\n",
      "L1---5,L2----3\n",
      "L1---5,L2----4\n",
      "L1---5,L2----5\n"
     ]
    }
   ],
   "source": [
    "l1=[1,2,3,4,5]\n",
    "l2=[1,2,3,4,5]\n",
    "for element1 in l1:\n",
    "    for element2 in l2:\n",
    "        print(f'L1---{element1},L2----{element2}')"
   ]
  },
  {
   "cell_type": "code",
   "execution_count": 6,
   "id": "163c5cf3-a5a6-4bbd-86a9-44103231deed",
   "metadata": {},
   "outputs": [
    {
     "name": "stdout",
     "output_type": "stream",
     "text": [
      "str1 alphabet j, str2 alphabet D\n",
      "str1 alphabet j, str2 alphabet e\n",
      "str1 alphabet j, str2 alphabet l\n",
      "str1 alphabet j, str2 alphabet h\n",
      "str1 alphabet j, str2 alphabet i\n",
      "str1 alphabet a, str2 alphabet D\n",
      "str1 alphabet a, str2 alphabet e\n",
      "str1 alphabet a, str2 alphabet l\n",
      "str1 alphabet a, str2 alphabet h\n",
      "str1 alphabet a, str2 alphabet i\n",
      "str1 alphabet i, str2 alphabet D\n",
      "str1 alphabet i, str2 alphabet e\n",
      "str1 alphabet i, str2 alphabet l\n",
      "str1 alphabet i, str2 alphabet h\n",
      "str1 alphabet i, str2 alphabet i\n",
      "str1 alphabet p, str2 alphabet D\n",
      "str1 alphabet p, str2 alphabet e\n",
      "str1 alphabet p, str2 alphabet l\n",
      "str1 alphabet p, str2 alphabet h\n",
      "str1 alphabet p, str2 alphabet i\n",
      "str1 alphabet u, str2 alphabet D\n",
      "str1 alphabet u, str2 alphabet e\n",
      "str1 alphabet u, str2 alphabet l\n",
      "str1 alphabet u, str2 alphabet h\n",
      "str1 alphabet u, str2 alphabet i\n",
      "str1 alphabet r, str2 alphabet D\n",
      "str1 alphabet r, str2 alphabet e\n",
      "str1 alphabet r, str2 alphabet l\n",
      "str1 alphabet r, str2 alphabet h\n",
      "str1 alphabet r, str2 alphabet i\n"
     ]
    }
   ],
   "source": [
    "str1='jaipur'\n",
    "str2='Delhi'\n",
    "for i in str1:\n",
    "    for j in str2:\n",
    "        print(f'str1 alphabet {i}, str2 alphabet {j}')"
   ]
  },
  {
   "cell_type": "code",
   "execution_count": 23,
   "id": "e339df04-bd56-4ac5-a3d9-e4fa3cd79ec0",
   "metadata": {},
   "outputs": [
    {
     "name": "stdout",
     "output_type": "stream",
     "text": [
      "1\n",
      "2\n"
     ]
    }
   ],
   "source": [
    "#control statementes\n",
    "#break\n",
    "\n",
    "#it helps to break  the loop prematurely(time se pehle)\n",
    "for i in range(1,6):\n",
    "    if i ==3:\n",
    "        break\n",
    "    print(i)"
   ]
  },
  {
   "cell_type": "code",
   "execution_count": 11,
   "id": "a48c5b0c-500b-458b-8a01-4ceeee78329e",
   "metadata": {},
   "outputs": [
    {
     "name": "stdout",
     "output_type": "stream",
     "text": [
      "1\n",
      "2\n",
      "3\n",
      "4\n",
      "5\n",
      "loop finished\n"
     ]
    }
   ],
   "source": [
    "#else\n",
    "#execute after the loop is finished\n",
    "for i in range(1,6):\n",
    "    print(i)\n",
    "else:\n",
    "    print('loop finished')"
   ]
  },
  {
   "cell_type": "code",
   "execution_count": 22,
   "id": "ade107f8-2340-43ef-ad0d-a867463fa1cc",
   "metadata": {},
   "outputs": [
    {
     "name": "stdout",
     "output_type": "stream",
     "text": [
      "1\n",
      "2\n",
      "3\n",
      "5\n"
     ]
    }
   ],
   "source": [
    "for i in range(1,6):\n",
    "    if i == 4:\n",
    "        continue\n",
    "    print(i)"
   ]
  },
  {
   "cell_type": "code",
   "execution_count": 26,
   "id": "6efe808c-2432-4d1b-b8ea-6c81b0d2cb55",
   "metadata": {},
   "outputs": [
    {
     "name": "stdout",
     "output_type": "stream",
     "text": [
      "1\n",
      "2\n",
      "3\n",
      "4\n",
      "5\n"
     ]
    }
   ],
   "source": [
    "#pass\n",
    "#as it is \n",
    "#placeholder\n",
    "\n",
    "\n",
    "for i in range(1,6):\n",
    "        if i == 3:\n",
    "            pass\n",
    "        print(i)\n",
    "    "
   ]
  },
  {
   "cell_type": "code",
   "execution_count": null,
   "id": "6e8ac79b-e7f5-4c29-af95-32da00737a2f",
   "metadata": {},
   "outputs": [],
   "source": [
    "#infinite loops\n",
    "#while True:\n",
    "\n",
    "#print('infinite loop')"
   ]
  },
  {
   "cell_type": "code",
   "execution_count": 27,
   "id": "59a22940-f02d-427f-966e-eb90d97ad18e",
   "metadata": {},
   "outputs": [
    {
     "name": "stdout",
     "output_type": "stream",
     "text": [
      "0 apple\n",
      "1 banana\n",
      "2 cherry\n"
     ]
    }
   ],
   "source": [
    "#enumerate function\n",
    "#when the values are required along with their corresponding index places\n",
    "\n",
    "fruits=['apple','banana','cherry']\n",
    "for index,fruit in enumerate(fruits):\n",
    "    print(index,fruit)"
   ]
  },
  {
   "cell_type": "code",
   "execution_count": 29,
   "id": "bc37c857-8d51-42bc-9e23-de1ca0d434a5",
   "metadata": {},
   "outputs": [
    {
     "name": "stdout",
     "output_type": "stream",
     "text": [
      "name kartik\n",
      "class 12\n",
      "rollnumber 32\n"
     ]
    }
   ],
   "source": [
    "#accessing key and values\n",
    "\n",
    "d1={'name':'kartik','class':12,'rollnumber':32}\n",
    "for key,value in d1.items():\n",
    "    print(key,value)"
   ]
  },
  {
   "cell_type": "code",
   "execution_count": 32,
   "id": "5c61aa2c-dcb9-4cc6-8eab-060cab9c45ba",
   "metadata": {},
   "outputs": [
    {
     "name": "stdout",
     "output_type": "stream",
     "text": [
      "[1, 4, 9, 16, 25, 36, 49, 64, 81, 100]\n",
      "[1, 2, 3, 4, 5, 6, 7, 8, 9, 10]\n"
     ]
    }
   ],
   "source": [
    "#creating list,dictionary and set using loops\n",
    "#list comprehension\n",
    "#dictionary comprehension\n",
    "#set comprehension\n",
    "\n",
    "#list comp\n",
    "\n",
    "l1_squares=[x**2 for x in range(1,11)]\n",
    "print(l1_squares)\n",
    "\n",
    "\n",
    "l1_normal=[x for x in range(1,11)]\n",
    "print(l1_normal)"
   ]
  },
  {
   "cell_type": "code",
   "execution_count": 3,
   "id": "b26efa52-4b45-4a33-b133-b680f107fb5a",
   "metadata": {},
   "outputs": [
    {
     "name": "stdout",
     "output_type": "stream",
     "text": [
      "{1: 1, 2: 4, 3: 9, 4: 16, 5: 25, 6: 36, 7: 49, 8: 64, 9: 81, 10: 100}\n",
      "{1: 6, 2: 12, 3: 18, 4: 24, 5: 30, 6: 36, 7: 42, 8: 48, 9: 54, 10: 60}\n"
     ]
    }
   ],
   "source": [
    "#dict comp\n",
    "\n",
    "d1_squares={x: x**2 for x in range(1,11)}\n",
    "print(d1_squares)\n",
    "\n",
    "d1_6={x: x*6 for x in range(1,11)}\n",
    "print(d1_6)\n",
    "\n"
   ]
  },
  {
   "cell_type": "code",
   "execution_count": 5,
   "id": "4dc593c7-8530-46b0-ba22-8160f375c759",
   "metadata": {},
   "outputs": [
    {
     "name": "stdout",
     "output_type": "stream",
     "text": [
      "{64, 1, 4, 36, 100, 9, 16, 49, 81, 25}\n",
      "{100, 70, 40, 10, 80, 50, 20, 90, 60, 30}\n"
     ]
    }
   ],
   "source": [
    "#set comp\n",
    "set_squares={x**2 for x in range(1,11)}\n",
    "print(set_squares)\n",
    "\n",
    "set_10={x*10 for x in range(1,11)}\n",
    "print(set_10)"
   ]
  },
  {
   "cell_type": "code",
   "execution_count": null,
   "id": "df6dbf2c-d757-4a23-bf85-eca1f46772a2",
   "metadata": {},
   "outputs": [],
   "source": []
  }
 ],
 "metadata": {
  "kernelspec": {
   "display_name": "Python 3 (ipykernel)",
   "language": "python",
   "name": "python3"
  },
  "language_info": {
   "codemirror_mode": {
    "name": "ipython",
    "version": 3
   },
   "file_extension": ".py",
   "mimetype": "text/x-python",
   "name": "python",
   "nbconvert_exporter": "python",
   "pygments_lexer": "ipython3",
   "version": "3.11.5"
  }
 },
 "nbformat": 4,
 "nbformat_minor": 5
}
