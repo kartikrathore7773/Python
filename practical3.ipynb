{
 "cells": [
  {
   "cell_type": "code",
   "execution_count": 1,
   "id": "8e47af92-9c51-45f7-b871-0221a83c348d",
   "metadata": {},
   "outputs": [],
   "source": [
    "#Data types numeric=int,float,complex"
   ]
  },
  {
   "cell_type": "code",
   "execution_count": 2,
   "id": "b356882f-27db-47e1-b6bc-80969e2a36dd",
   "metadata": {},
   "outputs": [
    {
     "name": "stdout",
     "output_type": "stream",
     "text": [
      "<class 'int'>\n"
     ]
    }
   ],
   "source": [
    "a=4\n",
    "print(type(a))"
   ]
  },
  {
   "cell_type": "code",
   "execution_count": 3,
   "id": "61bd5453-af46-4db7-bece-ee7520fb0029",
   "metadata": {},
   "outputs": [
    {
     "name": "stdout",
     "output_type": "stream",
     "text": [
      "<class 'float'>\n"
     ]
    }
   ],
   "source": [
    "b=7.8\n",
    "print(type(b))"
   ]
  },
  {
   "cell_type": "code",
   "execution_count": 4,
   "id": "631facf5-15b2-445c-8361-7651196e3603",
   "metadata": {},
   "outputs": [
    {
     "name": "stdout",
     "output_type": "stream",
     "text": [
      "<class 'complex'>\n"
     ]
    }
   ],
   "source": [
    "c=3+4j\n",
    "print(type(c))"
   ]
  },
  {
   "cell_type": "code",
   "execution_count": 5,
   "id": "0cc6aa3d-7991-42fa-8ab8-1b8f14b8a6e4",
   "metadata": {},
   "outputs": [],
   "source": [
    "#Character-string,list,tuple"
   ]
  },
  {
   "cell_type": "code",
   "execution_count": 6,
   "id": "ab823f2f-acfd-4387-a355-10ff388ccf94",
   "metadata": {},
   "outputs": [
    {
     "name": "stdout",
     "output_type": "stream",
     "text": [
      "<class 'str'>\n",
      "<class 'str'>\n"
     ]
    }
   ],
   "source": [
    "d='Jaipur'\n",
    "\n",
    "print(type(d))\n",
    "\n",
    "e='I am Good'\n",
    "\n",
    "print(type(e))"
   ]
  },
  {
   "cell_type": "code",
   "execution_count": 7,
   "id": "871a208b-ecb7-4700-b63e-6dac703bf630",
   "metadata": {},
   "outputs": [
    {
     "name": "stdout",
     "output_type": "stream",
     "text": [
      "[1, 2, 3.6, 4, 'Apple']\n",
      "<class 'list'>\n"
     ]
    }
   ],
   "source": [
    "f=[1,2,3.6,4,'Apple']    #square brackets\n",
    "              #'comma'\n",
    "              #We can add any data type in the list\n",
    "              #Mutable-Can perform operations                                    #Ordered but mutable\n",
    "              #Slow-dynamic(can be changed)\n",
    "              #ordered collection\n",
    "\n",
    "print(f)\n",
    "print(type(f))"
   ]
  },
  {
   "cell_type": "code",
   "execution_count": 8,
   "id": "b28fff4d-70b4-460d-8e4e-5ea87aa5ddc9",
   "metadata": {},
   "outputs": [
    {
     "name": "stdout",
     "output_type": "stream",
     "text": [
      "<class 'tuple'>\n"
     ]
    }
   ],
   "source": [
    "g=(1,2,3,4)               #Parentheses\n",
    "                           #'comma\n",
    "                           #Immutable(cannot be changed)                              #Ordered but immutable\n",
    "                           #fast-static(cannot be changed)\n",
    "                           #ordered\n",
    "print(type(g))"
   ]
  },
  {
   "cell_type": "code",
   "execution_count": 9,
   "id": "11a9bfba-3997-4113-9648-ea0d623a142f",
   "metadata": {},
   "outputs": [
    {
     "name": "stdout",
     "output_type": "stream",
     "text": [
      "9.8\n",
      "[1, 3.6, 'Apple']\n",
      "['Apple', 9.8, 34]\n",
      "[3.6, 'Apple']\n"
     ]
    }
   ],
   "source": [
    "f=[1,2,3.6,4,'Apple',2,3.8,9.8,10,'Guava',34,'Jaipur']                                       #append, insert, extend, pop, remove, index, count,sort,reverse, copy ,clear\n",
    "print(f[-5])                                #indexing\n",
    "\n",
    "print(f[0:5:2])\n",
    "                                #slicing([start:end+1:[stepsize]])\n",
    "print(f[4:11:3])                         #'Apple,9.8,'Guava'\n",
    "\n",
    "print(f[2:6:2])\n",
    "\n"
   ]
  },
  {
   "cell_type": "code",
   "execution_count": 10,
   "id": "761317ef-2c5b-4ec9-ad63-5fccf4203566",
   "metadata": {},
   "outputs": [
    {
     "name": "stdout",
     "output_type": "stream",
     "text": [
      "[]\n",
      "['Jaipur', 'Guava']\n"
     ]
    }
   ],
   "source": [
    "print(f[-1:-5:1])\n",
    "\n",
    "print(f[-1:-4:-2])"
   ]
  },
  {
   "cell_type": "code",
   "execution_count": 11,
   "id": "2883b1f2-9c9f-4583-b842-f57fd358bf60",
   "metadata": {},
   "outputs": [
    {
     "name": "stdout",
     "output_type": "stream",
     "text": [
      "['Guava', 9.8, 2]\n",
      "[]\n",
      "[]\n",
      "[10, 'Guava', 34]\n",
      "[34, 9.8]\n",
      "[]\n"
     ]
    }
   ],
   "source": [
    "print(f[-3:-8:-2])             #Guava,2,[guava,9.8,2]\n",
    "\n",
    "print(f[-2:-8:2])               #34,2,[]\n",
    "\n",
    "print(f[-4:-1:-2])              #10,34,[]\n",
    "\n",
    "print(f[-4:-1:1])                #10,34,[10,guava,34]\n",
    "\n",
    "print(f[-2:-6:-3])                #34,9.8,[34,9.8]\n",
    "\n",
    "print(f[1:8:-2])                 #2,9.8,[]"
   ]
  },
  {
   "cell_type": "code",
   "execution_count": null,
   "id": "f6ac92bd-1491-43d8-9145-9f8d1d88b38b",
   "metadata": {},
   "outputs": [],
   "source": []
  }
 ],
 "metadata": {
  "kernelspec": {
   "display_name": "Python 3 (ipykernel)",
   "language": "python",
   "name": "python3"
  },
  "language_info": {
   "codemirror_mode": {
    "name": "ipython",
    "version": 3
   },
   "file_extension": ".py",
   "mimetype": "text/x-python",
   "name": "python",
   "nbconvert_exporter": "python",
   "pygments_lexer": "ipython3",
   "version": "3.11.5"
  }
 },
 "nbformat": 4,
 "nbformat_minor": 5
}
