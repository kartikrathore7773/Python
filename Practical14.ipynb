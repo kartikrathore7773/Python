{
 "cells": [
  {
   "cell_type": "markdown",
   "id": "f7f97b13-c396-4b6d-9f51-ba59854ca010",
   "metadata": {},
   "source": []
  },
  {
   "cell_type": "code",
   "execution_count": 9,
   "id": "0935cdf5-00f7-4194-90ad-c83cd0f2496b",
   "metadata": {},
   "outputs": [],
   "source": [
    "#closures and decorators\n",
    "\n",
    "#closures\n",
    "#nested(inner) function retain access to the outer function has finished executing\n",
    "#example\n",
    "def outer_function(x):\n",
    "    def inner_function(y):\n",
    "        return x + y\n",
    "    return inner_function\n",
    "\n",
    "\n"
   ]
  },
  {
   "cell_type": "code",
   "execution_count": 10,
   "id": "713a6f70-6894-41e1-92ed-64702aa08649",
   "metadata": {},
   "outputs": [],
   "source": [
    "closure = outer_function(10)"
   ]
  },
  {
   "cell_type": "code",
   "execution_count": 11,
   "id": "82d5d560-0352-46d0-a6b2-b265a913b251",
   "metadata": {},
   "outputs": [
    {
     "name": "stdout",
     "output_type": "stream",
     "text": [
      "15\n"
     ]
    }
   ],
   "source": [
    "print(closure(5))"
   ]
  },
  {
   "cell_type": "code",
   "execution_count": null,
   "id": "a17ac1b3-ec6c-4613-b190-43bba58c5dc5",
   "metadata": {},
   "outputs": [],
   "source": []
  }
 ],
 "metadata": {
  "kernelspec": {
   "display_name": "Python 3 (ipykernel)",
   "language": "python",
   "name": "python3"
  },
  "language_info": {
   "codemirror_mode": {
    "name": "ipython",
    "version": 3
   },
   "file_extension": ".py",
   "mimetype": "text/x-python",
   "name": "python",
   "nbconvert_exporter": "python",
   "pygments_lexer": "ipython3",
   "version": "3.11.5"
  }
 },
 "nbformat": 4,
 "nbformat_minor": 5
}
