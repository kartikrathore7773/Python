{
 "cells": [
  {
   "cell_type": "code",
   "execution_count": 2,
   "id": "34c6a342-1771-42bb-a0bc-92ce102cc6f6",
   "metadata": {},
   "outputs": [
    {
     "data": {
      "text/plain": [
       "'character-string,list,tuple \\nlist indexing and slicing \\nlist methods-------->>>>>>append,extend, insert, remove, pop,clear index, count, copy,len, max \\n,min,sort, reverse \\n'"
      ]
     },
     "execution_count": 2,
     "metadata": {},
     "output_type": "execute_result"
    }
   ],
   "source": [
    "'''character-string,list,tuple \n",
    "list indexing and slicing \n",
    "list methods-------->>>>>>append,extend, insert, remove, pop,clear index, count, copy,len, max \n",
    ",min,sort, reverse \n",
    "'''"
   ]
  },
  {
   "cell_type": "code",
   "execution_count": null,
   "id": "ddf4b376-8975-4be1-a9f4-e1949037e1f0",
   "metadata": {},
   "outputs": [],
   "source": [
    "\n"
   ]
  },
  {
   "cell_type": "code",
   "execution_count": null,
   "id": "0228b79a-5d08-40cb-8326-bf365de076c9",
   "metadata": {},
   "outputs": [],
   "source": []
  }
 ],
 "metadata": {
  "kernelspec": {
   "display_name": "Python 3 (ipykernel)",
   "language": "python",
   "name": "python3"
  },
  "language_info": {
   "codemirror_mode": {
    "name": "ipython",
    "version": 3
   },
   "file_extension": ".py",
   "mimetype": "text/x-python",
   "name": "python",
   "nbconvert_exporter": "python",
   "pygments_lexer": "ipython3",
   "version": "3.11.5"
  }
 },
 "nbformat": 4,
 "nbformat_minor": 5
}
