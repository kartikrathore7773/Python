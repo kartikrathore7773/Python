{
 "cells": [
  {
   "cell_type": "code",
   "execution_count": null,
   "id": "81a165c1",
   "metadata": {},
   "outputs": [],
   "source": [
    "#set\n",
    "#duplicate\n",
    "#union,intersection,diffrence,symmetric diffrence"
   ]
  },
  {
   "cell_type": "code",
   "execution_count": 1,
   "id": "262370f7",
   "metadata": {},
   "outputs": [
    {
     "name": "stdout",
     "output_type": "stream",
     "text": [
      "{1, 2, 3, 4, 5}\n"
     ]
    }
   ],
   "source": [
    "#arithmetic operations\n",
    "set1={1,2,3}\n",
    "set2={3,4,5}\n",
    "\n",
    "print(set1.union(set2))    #will combine both the sets and remove any duplicate value"
   ]
  },
  {
   "cell_type": "code",
   "execution_count": 3,
   "id": "379a6c76",
   "metadata": {},
   "outputs": [
    {
     "name": "stdout",
     "output_type": "stream",
     "text": [
      "{3}\n"
     ]
    }
   ],
   "source": [
    "print(set1.intersection(set2))    #will give the comman element/value"
   ]
  },
  {
   "cell_type": "code",
   "execution_count": 8,
   "id": "5b9ff4c5",
   "metadata": {},
   "outputs": [
    {
     "name": "stdout",
     "output_type": "stream",
     "text": [
      "{1, 2}\n"
     ]
    }
   ],
   "source": [
    "print(set1.difference(set2))      #will give all the values of the first set after removing the elementes that are occuring in set 2"
   ]
  },
  {
   "cell_type": "code",
   "execution_count": 6,
   "id": "50425813",
   "metadata": {
    "scrolled": true
   },
   "outputs": [
    {
     "name": "stdout",
     "output_type": "stream",
     "text": [
      "{1, 2, 4, 5}\n"
     ]
    }
   ],
   "source": [
    "print(set1.symmetric_difference(set2))    #will give the elementes that are not repeated"
   ]
  },
  {
   "cell_type": "code",
   "execution_count": 10,
   "id": "c944f2b8",
   "metadata": {},
   "outputs": [
    {
     "name": "stdout",
     "output_type": "stream",
     "text": [
      "1\n",
      "2\n",
      "3\n",
      "4\n"
     ]
    }
   ],
   "source": [
    "#loops(when its required to run the block of code multiple times)\n",
    "#for loop\n",
    "#while loop\n",
    "\n",
    "#for loop\n",
    "list1=[1,2,3,4]\n",
    "for i in list1:\n",
    "    print(i)\n"
   ]
  },
  {
   "cell_type": "code",
   "execution_count": 11,
   "id": "4e5afc66",
   "metadata": {},
   "outputs": [
    {
     "name": "stdout",
     "output_type": "stream",
     "text": [
      "2\n",
      "4\n",
      "6\n",
      "8\n"
     ]
    }
   ],
   "source": [
    "for i in list1:\n",
    "    print(2*i)"
   ]
  },
  {
   "cell_type": "code",
   "execution_count": 12,
   "id": "969f6535",
   "metadata": {},
   "outputs": [
    {
     "name": "stdout",
     "output_type": "stream",
     "text": [
      "4\n",
      "6\n",
      "8\n",
      "10\n",
      "12\n",
      "14\n",
      "16\n",
      "18\n",
      "20\n"
     ]
    }
   ],
   "source": [
    "#range(5)------0,1,2,3,4\n",
    "#range(9)-----0,1,2,3,4,5,6,7,8\n",
    "for i in range(2,11):                           #FOR i in iterabledatatype:\n",
    "    print(2*i)"
   ]
  },
  {
   "cell_type": "code",
   "execution_count": 20,
   "id": "ceb860b2",
   "metadata": {},
   "outputs": [
    {
     "name": "stdout",
     "output_type": "stream",
     "text": [
      "apple\n",
      "banana\n",
      "cherry\n"
     ]
    }
   ],
   "source": [
    "fruits=['apple','banana','cherry']\n",
    "for fruit in fruits:\n",
    "        print(fruit)"
   ]
  },
  {
   "cell_type": "code",
   "execution_count": 42,
   "id": "2da0f535",
   "metadata": {},
   "outputs": [
    {
     "name": "stdout",
     "output_type": "stream",
     "text": [
      "5 x 1 = 5\n",
      "5 x 2 = 10\n",
      "5 x 3 = 15\n",
      "5 x 4 = 20\n",
      "5 x 5 = 25\n",
      "5 x 6 = 30\n",
      "5 x 7 = 35\n",
      "5 x 8 = 40\n",
      "5 x 9 = 45\n",
      "5 x 10 = 50\n"
     ]
    }
   ],
   "source": [
    "for i in range(1,11):\n",
    "    print(f'5 x {i} =',5*i)\n"
   ]
  },
  {
   "cell_type": "code",
   "execution_count": 46,
   "id": "8b802d09",
   "metadata": {},
   "outputs": [
    {
     "name": "stdout",
     "output_type": "stream",
     "text": [
      "10\n",
      "20\n",
      "30\n",
      "40\n",
      "50\n",
      "60\n"
     ]
    }
   ],
   "source": [
    "tuple1=(1,2,3,4,5,6)\n",
    "for i in tuple1:\n",
    "    print(i*10)"
   ]
  },
  {
   "cell_type": "code",
   "execution_count": 49,
   "id": "94e9ccd1",
   "metadata": {},
   "outputs": [
    {
     "name": "stdout",
     "output_type": "stream",
     "text": [
      "j\n",
      "a\n",
      "i\n",
      "p\n",
      "u\n",
      "r\n"
     ]
    }
   ],
   "source": [
    "city='jaipur'\n",
    "for alphabet in city:\n",
    "    print(alphabet)"
   ]
  },
  {
   "cell_type": "code",
   "execution_count": 50,
   "id": "4ce5d6e8",
   "metadata": {},
   "outputs": [
    {
     "name": "stdout",
     "output_type": "stream",
     "text": [
      "name\n",
      "city\n",
      "pincode\n"
     ]
    }
   ],
   "source": [
    "my_dictionary1={'name':'kartik','city':'jaipur','pincode':302018}\n",
    "for keys in my_dictionary1:\n",
    "    print(keys)"
   ]
  },
  {
   "cell_type": "code",
   "execution_count": 52,
   "id": "e25e4651",
   "metadata": {},
   "outputs": [
    {
     "name": "stdout",
     "output_type": "stream",
     "text": [
      "kartik\n",
      "jaipur\n",
      "302018\n"
     ]
    }
   ],
   "source": [
    "for values in my_dictionary1.values():\n",
    "    print(values)"
   ]
  },
  {
   "cell_type": "code",
   "execution_count": 53,
   "id": "f79d7217",
   "metadata": {},
   "outputs": [
    {
     "name": "stdout",
     "output_type": "stream",
     "text": [
      "key:name, values:kartik\n",
      "key:city, values:jaipur\n",
      "key:pincode, values:302018\n"
     ]
    }
   ],
   "source": [
    "for key,values in my_dictionary1.items():\n",
    "    print(f\"key:{key}, values:{values}\")\n",
    "    "
   ]
  },
  {
   "cell_type": "code",
   "execution_count": null,
   "id": "efaaa244",
   "metadata": {},
   "outputs": [],
   "source": []
  }
 ],
 "metadata": {
  "kernelspec": {
   "display_name": "Python 3 (ipykernel)",
   "language": "python",
   "name": "python3"
  },
  "language_info": {
   "codemirror_mode": {
    "name": "ipython",
    "version": 3
   },
   "file_extension": ".py",
   "mimetype": "text/x-python",
   "name": "python",
   "nbconvert_exporter": "python",
   "pygments_lexer": "ipython3",
   "version": "3.11.5"
  }
 },
 "nbformat": 4,
 "nbformat_minor": 5
}
