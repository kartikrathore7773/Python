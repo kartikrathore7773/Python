{
 "cells": [
  {
   "cell_type": "code",
   "execution_count": 3,
   "id": "6ff725ca-ffe8-4264-b050-1e951ad007a5",
   "metadata": {},
   "outputs": [],
   "source": [
    "#functions\n",
    "\n",
    "#reusability and reducing the repetitive efforts\n",
    "\n",
    "#def keyword---- forms the structure of function\n",
    "\n",
    "#def functionname (argumentes:)\n",
    "    #code_to_exucute\n",
    "\n",
    "def print_name(name):\n",
    "    print(f'hey my name is {name}')"
   ]
  },
  {
   "cell_type": "code",
   "execution_count": 4,
   "id": "5ff6dc6a-e008-4b91-8348-9d6bb31aa9c9",
   "metadata": {},
   "outputs": [
    {
     "name": "stdout",
     "output_type": "stream",
     "text": [
      "hey my name is kartik\n"
     ]
    }
   ],
   "source": [
    "print_name('kartik')"
   ]
  },
  {
   "cell_type": "code",
   "execution_count": 21,
   "id": "34d4a22b-bbfa-461d-8f8f-6624c88197e7",
   "metadata": {},
   "outputs": [],
   "source": [
    "def well_done(value):\n",
    "    print(f'har ya phir jeet, {value}')\n",
    "    \n",
    "   "
   ]
  },
  {
   "cell_type": "code",
   "execution_count": 22,
   "id": "6064bb93-1fb7-4da7-92d7-115c52619ff2",
   "metadata": {},
   "outputs": [
    {
     "name": "stdout",
     "output_type": "stream",
     "text": [
      "har ya phir jeet, jeet\n"
     ]
    }
   ],
   "source": [
    "well_done('jeet')"
   ]
  },
  {
   "cell_type": "code",
   "execution_count": 23,
   "id": "077ffb8a-b02e-4a52-9746-85eff0815133",
   "metadata": {},
   "outputs": [],
   "source": [
    "def add(a,b):\n",
    "    return a+b\n"
   ]
  },
  {
   "cell_type": "code",
   "execution_count": 24,
   "id": "cdcc820e-16ed-4259-9dee-1a7e05fbb379",
   "metadata": {},
   "outputs": [
    {
     "data": {
      "text/plain": [
       "9"
      ]
     },
     "execution_count": 24,
     "metadata": {},
     "output_type": "execute_result"
    }
   ],
   "source": [
    "#functionname (argumentes)\n",
    "add(4,5)"
   ]
  },
  {
   "cell_type": "code",
   "execution_count": null,
   "id": "c3ada43a-9edd-451a-9c2b-46b7b113043c",
   "metadata": {},
   "outputs": [],
   "source": [
    "#return\n",
    "#will return the values specified after it\n",
    "#can only be used inside the function\n",
    "#will send the cursor back to where the function was defined"
   ]
  },
  {
   "cell_type": "code",
   "execution_count": 2,
   "id": "8c0fe114-cc08-4af5-a629-222750a8a71e",
   "metadata": {},
   "outputs": [
    {
     "data": {
      "text/plain": [
       "42"
      ]
     },
     "execution_count": 2,
     "metadata": {},
     "output_type": "execute_result"
    }
   ],
   "source": [
    "#types of argumentes\n",
    "#positional argumentes\n",
    "#keyword argumentes\n",
    "#default argumentes\n",
    "#variable length argumentes\n",
    "    #positional variable length\n",
    "    #keyword variable length\n",
    "\n",
    "#1positional argumentes\n",
    "#we do not need to give the variable\n",
    "#only the value is passed\n",
    "\n",
    "\n",
    "def multiply(a,b):\n",
    "    return a*b\n",
    "\n",
    "multiply(6,7)\n",
    "\n"
   ]
  },
  {
   "cell_type": "code",
   "execution_count": 37,
   "id": "33253a49-edd4-4e6c-9de8-f66a5cc04a0f",
   "metadata": {},
   "outputs": [
    {
     "name": "stdout",
     "output_type": "stream",
     "text": [
      "hello,kartik\n"
     ]
    }
   ],
   "source": [
    "#2keyword argumentes\n",
    "#the name of the variable is passed along with the values\n",
    "def greet(greetings,name):\n",
    "    print(f'{greetings},{name}')\n",
    "greet(greetings='hello',name='kartik')"
   ]
  },
  {
   "cell_type": "code",
   "execution_count": 33,
   "id": "8fbc6da1-1318-4f50-935c-7381f1357cd6",
   "metadata": {},
   "outputs": [
    {
     "name": "stdout",
     "output_type": "stream",
     "text": [
      "hello,kartik\n"
     ]
    }
   ],
   "source": [
    "greet(name='kartik',greetings='hello')"
   ]
  },
  {
   "cell_type": "code",
   "execution_count": 1,
   "id": "f498373c-f5f1-4cf7-acdf-a71e0f854138",
   "metadata": {},
   "outputs": [
    {
     "name": "stdout",
     "output_type": "stream",
     "text": [
      "Hey!!kartik\n"
     ]
    }
   ],
   "source": [
    "#3default argumentes\n",
    "#when the value of a variable is set when the fuction is defined\n",
    "\n",
    "def greet(name,greetings='Hey!!'):\n",
    "    print(f'{greetings}{name}')\n",
    "\n",
    "greet('kartik')\n"
   ]
  },
  {
   "cell_type": "code",
   "execution_count": 41,
   "id": "ad3eabec-8f33-4e23-8f66-01e49077a307",
   "metadata": {},
   "outputs": [
    {
     "name": "stdout",
     "output_type": "stream",
     "text": [
      "hey!!,kartik\n"
     ]
    }
   ],
   "source": [
    "def greet(name,greetings):\n",
    "    print(f'{greetings},{name}')\n",
    "\n",
    "greet('kartik','hey!!')"
   ]
  },
  {
   "cell_type": "code",
   "execution_count": 45,
   "id": "6009a858-081b-41f8-bd5d-d1a7f8e93965",
   "metadata": {},
   "outputs": [
    {
     "data": {
      "text/plain": [
       "14"
      ]
     },
     "execution_count": 45,
     "metadata": {},
     "output_type": "execute_result"
    }
   ],
   "source": [
    "#4variable length argumentes\n",
    "#no fix length\n",
    "\n",
    "#positional variable length\n",
    "def addition(*numbers):\n",
    "    return sum(numbers)\n",
    "\n",
    "addition(2,3,4,5)"
   ]
  },
  {
   "cell_type": "code",
   "execution_count": 2,
   "id": "a6c8f3ba-fe2a-410f-a454-031653bf3994",
   "metadata": {},
   "outputs": [
    {
     "name": "stdout",
     "output_type": "stream",
     "text": [
      "name:kartik\n",
      "city:ajmer\n",
      "pincode:305206\n"
     ]
    }
   ],
   "source": [
    "#keyword variable length\n",
    "def information(**info):\n",
    "    for key,value in info.items():\n",
    "          print(f'{key}:{value}')\n",
    "\n",
    "information(name='kartik',city='ajmer',pincode=305206)\n",
    "        "
   ]
  },
  {
   "cell_type": "code",
   "execution_count": null,
   "id": "74653e3c-d33f-4479-a74a-f688c3dfc852",
   "metadata": {},
   "outputs": [],
   "source": []
  }
 ],
 "metadata": {
  "kernelspec": {
   "display_name": "Python 3 (ipykernel)",
   "language": "python",
   "name": "python3"
  },
  "language_info": {
   "codemirror_mode": {
    "name": "ipython",
    "version": 3
   },
   "file_extension": ".py",
   "mimetype": "text/x-python",
   "name": "python",
   "nbconvert_exporter": "python",
   "pygments_lexer": "ipython3",
   "version": "3.11.5"
  }
 },
 "nbformat": 4,
 "nbformat_minor": 5
}
