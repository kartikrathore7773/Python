{
 "cells": [
  {
   "cell_type": "code",
   "execution_count": 1,
   "id": "25f96d15-55e0-4acb-b3ba-4de670740165",
   "metadata": {},
   "outputs": [],
   "source": [
    "#lambda functins\n",
    "#small anonnymous fuctions\n",
    "#anonymous----unknwn\n",
    "##will use lambda keword to define the functions\n",
    "\n",
    "#syntax\n",
    "#lambda argumentes(x,y): code_to_run\n",
    "\n",
    "sum1 = lambda x,y:x+y"
   ]
  },
  {
   "cell_type": "code",
   "execution_count": 2,
   "id": "c5c63a57-996d-4751-ae44-ebab5cc3b052",
   "metadata": {},
   "outputs": [
    {
     "data": {
      "text/plain": [
       "15"
      ]
     },
     "execution_count": 2,
     "metadata": {},
     "output_type": "execute_result"
    }
   ],
   "source": [
    "sum1(6,9)\n",
    "\n",
    "#we can pass positional as well as keyword argumentes in the lambda function"
   ]
  },
  {
   "cell_type": "code",
   "execution_count": 3,
   "id": "fb5b41ab-5943-4983-9877-c85bba1e3ceb",
   "metadata": {},
   "outputs": [],
   "source": [
    "multiply = lambda a,b:a*b"
   ]
  },
  {
   "cell_type": "code",
   "execution_count": 4,
   "id": "9aefa9bc-5404-4d19-8c14-bc9b64c09b62",
   "metadata": {},
   "outputs": [
    {
     "data": {
      "text/plain": [
       "24"
      ]
     },
     "execution_count": 4,
     "metadata": {},
     "output_type": "execute_result"
    }
   ],
   "source": [
    "multiply(4,6)"
   ]
  },
  {
   "cell_type": "code",
   "execution_count": 5,
   "id": "7aa14f6b-d40f-49bc-b326-6b81efa3f6e2",
   "metadata": {},
   "outputs": [],
   "source": [
    "sub = lambda a,b:a-b"
   ]
  },
  {
   "cell_type": "code",
   "execution_count": 10,
   "id": "786aa302-253c-4701-8628-bd22d7bb8c15",
   "metadata": {},
   "outputs": [
    {
     "data": {
      "text/plain": [
       "-3"
      ]
     },
     "execution_count": 10,
     "metadata": {},
     "output_type": "execute_result"
    }
   ],
   "source": [
    "#sub(9,5)\n",
    "sub(5,8)\n"
   ]
  },
  {
   "cell_type": "code",
   "execution_count": 12,
   "id": "e34d5a15-021b-4760-a154-cebacff1b5cb",
   "metadata": {},
   "outputs": [],
   "source": [
    "div =lambda a,b:a//b"
   ]
  },
  {
   "cell_type": "code",
   "execution_count": 13,
   "id": "e17bab8c-194e-4f69-9074-8d6b5626b094",
   "metadata": {},
   "outputs": [
    {
     "data": {
      "text/plain": [
       "2"
      ]
     },
     "execution_count": 13,
     "metadata": {},
     "output_type": "execute_result"
    }
   ],
   "source": [
    "div(4,2)"
   ]
  },
  {
   "cell_type": "code",
   "execution_count": 14,
   "id": "3169a973-78f0-4f08-819d-ddeb34ae73c5",
   "metadata": {},
   "outputs": [],
   "source": [
    "square = lambda a,b:a**b"
   ]
  },
  {
   "cell_type": "code",
   "execution_count": 15,
   "id": "74a95c53-47d3-44d4-bf14-eb0cb7058a44",
   "metadata": {},
   "outputs": [
    {
     "data": {
      "text/plain": [
       "8"
      ]
     },
     "execution_count": 15,
     "metadata": {},
     "output_type": "execute_result"
    }
   ],
   "source": [
    "square(2,3)"
   ]
  },
  {
   "cell_type": "code",
   "execution_count": 16,
   "id": "fde3e626-a87f-4820-8b14-ddcbc285f8fe",
   "metadata": {},
   "outputs": [],
   "source": [
    "sum1 = lambda a,b,c:a+b+c"
   ]
  },
  {
   "cell_type": "code",
   "execution_count": 17,
   "id": "3c76b552-e26d-4f15-a66e-6b24e77df726",
   "metadata": {},
   "outputs": [
    {
     "data": {
      "text/plain": [
       "14"
      ]
     },
     "execution_count": 17,
     "metadata": {},
     "output_type": "execute_result"
    }
   ],
   "source": [
    "sum1(3,4,7)"
   ]
  },
  {
   "cell_type": "code",
   "execution_count": 21,
   "id": "0d07d7cd-2d97-4136-b75e-f7890174a3e3",
   "metadata": {},
   "outputs": [],
   "source": [
    "#use case \n",
    "#will make the code easy and simple\n",
    "sub = lambda a,b,c:a-b-c"
   ]
  },
  {
   "cell_type": "code",
   "execution_count": 22,
   "id": "a3bd6688-8836-40c7-a4b8-6760775b483b",
   "metadata": {},
   "outputs": [
    {
     "data": {
      "text/plain": [
       "-8"
      ]
     },
     "execution_count": 22,
     "metadata": {},
     "output_type": "execute_result"
    }
   ],
   "source": [
    "sub(3,4,7)"
   ]
  },
  {
   "cell_type": "code",
   "execution_count": 25,
   "id": "26c945c3-58c8-4a53-9fc4-1702e749082c",
   "metadata": {},
   "outputs": [],
   "source": [
    "exa = lambda a,b,c:a+b*c"
   ]
  },
  {
   "cell_type": "code",
   "execution_count": 26,
   "id": "a2c4d322-4236-4e3c-b330-a1e8bb977ce9",
   "metadata": {},
   "outputs": [
    {
     "data": {
      "text/plain": [
       "31"
      ]
     },
     "execution_count": 26,
     "metadata": {},
     "output_type": "execute_result"
    }
   ],
   "source": [
    "exa(3,4,7)"
   ]
  },
  {
   "cell_type": "code",
   "execution_count": 28,
   "id": "9f3592bb-6324-4304-a4eb-f5f524c7aee9",
   "metadata": {},
   "outputs": [],
   "source": [
    "#recursive functions\n",
    "#repetition of functions indide the fuction itself\n",
    "\n",
    "def factorial(n):\n",
    "    if n==1:\n",
    "        return 1\n",
    "    else:\n",
    "        return n* factorial(n-1)"
   ]
  },
  {
   "cell_type": "code",
   "execution_count": 29,
   "id": "0e69a2aa-946a-49dd-9680-9734911aaaed",
   "metadata": {},
   "outputs": [
    {
     "data": {
      "text/plain": [
       "15511210043330985984000000"
      ]
     },
     "execution_count": 29,
     "metadata": {},
     "output_type": "execute_result"
    }
   ],
   "source": [
    "factorial(25)"
   ]
  },
  {
   "cell_type": "code",
   "execution_count": 3,
   "id": "24d1729a-2b28-4681-abf6-326624b5144e",
   "metadata": {},
   "outputs": [],
   "source": [
    "def fibonacci(n):\n",
    "    if n<=0:\n",
    "        return 0\n",
    "    elif n==1:\n",
    "        return 1\n",
    "    else:\n",
    "        return fibonacci(n-2) + fibonacci(n-1)"
   ]
  },
  {
   "cell_type": "code",
   "execution_count": 5,
   "id": "0a258fa3-15a9-4e49-b8cc-401f11339266",
   "metadata": {},
   "outputs": [
    {
     "data": {
      "text/plain": [
       "13"
      ]
     },
     "execution_count": 5,
     "metadata": {},
     "output_type": "execute_result"
    }
   ],
   "source": [
    "fibonacci(7)"
   ]
  },
  {
   "cell_type": "code",
   "execution_count": null,
   "id": "6d902ab1-1bbb-426d-bda8-6ff21feaa40a",
   "metadata": {},
   "outputs": [],
   "source": []
  }
 ],
 "metadata": {
  "kernelspec": {
   "display_name": "Python 3 (ipykernel)",
   "language": "python",
   "name": "python3"
  },
  "language_info": {
   "codemirror_mode": {
    "name": "ipython",
    "version": 3
   },
   "file_extension": ".py",
   "mimetype": "text/x-python",
   "name": "python",
   "nbconvert_exporter": "python",
   "pygments_lexer": "ipython3",
   "version": "3.11.5"
  }
 },
 "nbformat": 4,
 "nbformat_minor": 5
}
