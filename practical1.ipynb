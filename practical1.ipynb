{
 "cells": [
  {
   "cell_type": "code",
   "execution_count": 1,
   "id": "8e815ba9-2b2f-4c49-bffa-bf1f5e88f2ba",
   "metadata": {},
   "outputs": [
    {
     "name": "stdout",
     "output_type": "stream",
     "text": [
      "<class 'int'>\n"
     ]
    }
   ],
   "source": [
    "x=10\n",
    "print(type(x))"
   ]
  },
  {
   "cell_type": "code",
   "execution_count": 2,
   "id": "e8a1c36a-76e5-47d2-af7c-fd7a4237296a",
   "metadata": {},
   "outputs": [
    {
     "name": "stdout",
     "output_type": "stream",
     "text": [
      "Hello\n"
     ]
    }
   ],
   "source": [
    "print('Hello')"
   ]
  },
  {
   "cell_type": "code",
   "execution_count": 3,
   "id": "5a413a0b-6536-467f-b56b-eac29413685e",
   "metadata": {},
   "outputs": [
    {
     "name": "stdout",
     "output_type": "stream",
     "text": [
      "10\n"
     ]
    }
   ],
   "source": [
    "print(10)"
   ]
  },
  {
   "cell_type": "code",
   "execution_count": 4,
   "id": "30bcba41-55d7-4a2a-bc30-f311df91fc20",
   "metadata": {},
   "outputs": [
    {
     "name": "stdout",
     "output_type": "stream",
     "text": [
      "Jaipur\n",
      "109276\n"
     ]
    }
   ],
   "source": [
    "print('''Jaipur\n",
    "109276''')"
   ]
  },
  {
   "cell_type": "code",
   "execution_count": 5,
   "id": "bdd98637-4b74-4099-8fc5-8031334dfd2e",
   "metadata": {},
   "outputs": [
    {
     "name": "stdout",
     "output_type": "stream",
     "text": [
      "Hello Jaipur\n"
     ]
    }
   ],
   "source": [
    "print('Hello',end=' ')\n",
    "print('Jaipur')\n"
   ]
  },
  {
   "cell_type": "code",
   "execution_count": 6,
   "id": "be5774d7-451a-4b9c-903e-3b0dfc1d9d39",
   "metadata": {},
   "outputs": [
    {
     "name": "stdout",
     "output_type": "stream",
     "text": [
      "Hello Jaipur\n",
      "Rajasthan\n"
     ]
    }
   ],
   "source": [
    "print('Hello',end=' ')\n",
    "print('Jaipur',end='\\n')\n",
    "print('Rajasthan')"
   ]
  },
  {
   "cell_type": "code",
   "execution_count": 7,
   "id": "3ac0a845-de33-4f98-9bbb-40db55300499",
   "metadata": {},
   "outputs": [
    {
     "data": {
      "text/plain": [
       "'\\n\\n\\n'"
      ]
     },
     "execution_count": 7,
     "metadata": {},
     "output_type": "execute_result"
    }
   ],
   "source": [
    "#\n",
    "'''\n",
    "\n",
    "\n",
    "'''"
   ]
  },
  {
   "cell_type": "code",
   "execution_count": 8,
   "id": "29f0d15c-9652-4ec0-a84c-78f52ac5a77c",
   "metadata": {},
   "outputs": [
    {
     "name": "stdout",
     "output_type": "stream",
     "text": [
      "<class 'int'>\n",
      "<class 'str'>\n"
     ]
    }
   ],
   "source": [
    "x=10\n",
    "y='10'\n",
    "print(type(x))\n",
    "print(type(y))"
   ]
  },
  {
   "cell_type": "code",
   "execution_count": 10,
   "id": "7d59cb6c-73f8-4074-b422-bbe25dd029c9",
   "metadata": {},
   "outputs": [
    {
     "name": "stdout",
     "output_type": "stream",
     "text": [
      "Name is Anita address is Jaipur\n"
     ]
    }
   ],
   "source": [
    "name='Anita'\n",
    "address='Jaipur'\n",
    "age=24\n",
    "\n",
    "\n",
    "\n",
    "print('Name is',name,'address is',address)"
   ]
  },
  {
   "cell_type": "code",
   "execution_count": 11,
   "id": "ca1a6cad-a6ab-433e-b439-813bf7328699",
   "metadata": {},
   "outputs": [
    {
     "name": "stdout",
     "output_type": "stream",
     "text": [
      "Name is Anita address is Jaipur\n"
     ]
    }
   ],
   "source": [
    "print(f'Name is {name} address is {address}')"
   ]
  },
  {
   "cell_type": "code",
   "execution_count": 13,
   "id": "14f7ff33-a266-4187-8f72-3078de1c6f9e",
   "metadata": {},
   "outputs": [],
   "source": [
    "#+,-,,/,//,%,*"
   ]
  },
  {
   "cell_type": "code",
   "execution_count": 14,
   "id": "293913d4-2d17-4924-acc0-8d3986d02b06",
   "metadata": {},
   "outputs": [
    {
     "name": "stdout",
     "output_type": "stream",
     "text": [
      "15\n"
     ]
    }
   ],
   "source": [
    "a=10\n",
    "b=5\n",
    "print(a+b)"
   ]
  },
  {
   "cell_type": "code",
   "execution_count": 15,
   "id": "d8bae499-0b75-4783-8816-798be0a83b3b",
   "metadata": {},
   "outputs": [
    {
     "name": "stdout",
     "output_type": "stream",
     "text": [
      "5\n"
     ]
    }
   ],
   "source": [
    "print(a-b)"
   ]
  },
  {
   "cell_type": "code",
   "execution_count": 16,
   "id": "aea0d34b-06db-41ca-96b0-3eeb17cc14ec",
   "metadata": {},
   "outputs": [
    {
     "name": "stdout",
     "output_type": "stream",
     "text": [
      "50\n"
     ]
    }
   ],
   "source": [
    "print(a*b)"
   ]
  },
  {
   "cell_type": "code",
   "execution_count": 17,
   "id": "79d1e48d-831f-478c-9faf-afd56c3ffed4",
   "metadata": {},
   "outputs": [
    {
     "name": "stdout",
     "output_type": "stream",
     "text": [
      "2.0\n"
     ]
    }
   ],
   "source": [
    "print(a/b)"
   ]
  },
  {
   "cell_type": "code",
   "execution_count": 18,
   "id": "325be405-6e6e-405f-aa92-631d07d1c8ff",
   "metadata": {},
   "outputs": [
    {
     "name": "stdout",
     "output_type": "stream",
     "text": [
      "2\n"
     ]
    }
   ],
   "source": [
    "print(a//b)"
   ]
  },
  {
   "cell_type": "code",
   "execution_count": 19,
   "id": "18ad1e61-4bc3-403c-888a-d3ac71830b92",
   "metadata": {},
   "outputs": [
    {
     "name": "stdout",
     "output_type": "stream",
     "text": [
      "100000\n"
     ]
    }
   ],
   "source": [
    "print(a**b)"
   ]
  },
  {
   "cell_type": "code",
   "execution_count": null,
   "id": "d9fd4751-96b0-4f8b-a2c5-40ec7d7f2c09",
   "metadata": {},
   "outputs": [],
   "source": [
    "#Comparison operators ==,!=,<=,>=,<,>"
   ]
  },
  {
   "cell_type": "code",
   "execution_count": 20,
   "id": "d8dd53cb-ac66-44f3-8968-ed6f771cd056",
   "metadata": {},
   "outputs": [
    {
     "name": "stdout",
     "output_type": "stream",
     "text": [
      "True\n"
     ]
    }
   ],
   "source": [
    "a=7\n",
    "b=5\n",
    "\n",
    "print(a>b)"
   ]
  },
  {
   "cell_type": "code",
   "execution_count": 21,
   "id": "8404bae3-bfb1-4003-9c71-b2bf3434cc21",
   "metadata": {},
   "outputs": [
    {
     "name": "stdout",
     "output_type": "stream",
     "text": [
      "False\n"
     ]
    }
   ],
   "source": [
    "print(a<b)"
   ]
  },
  {
   "cell_type": "code",
   "execution_count": 22,
   "id": "6e9e6f45-b83f-479d-bc95-1e9d399d5f64",
   "metadata": {},
   "outputs": [
    {
     "name": "stdout",
     "output_type": "stream",
     "text": [
      "False\n"
     ]
    }
   ],
   "source": [
    "print(a==b)"
   ]
  },
  {
   "cell_type": "code",
   "execution_count": 23,
   "id": "57f40b48-3970-45eb-9a13-5ad8c864611b",
   "metadata": {},
   "outputs": [
    {
     "name": "stdout",
     "output_type": "stream",
     "text": [
      "True\n"
     ]
    }
   ],
   "source": [
    "print(a!=b)"
   ]
  },
  {
   "cell_type": "code",
   "execution_count": 24,
   "id": "416730dc-90c8-4445-acc3-c221d671feb2",
   "metadata": {},
   "outputs": [
    {
     "name": "stdout",
     "output_type": "stream",
     "text": [
      "False\n"
     ]
    }
   ],
   "source": [
    "print(a<=b)"
   ]
  },
  {
   "cell_type": "code",
   "execution_count": 25,
   "id": "9535d32e-7750-476c-ba18-6184c8119826",
   "metadata": {},
   "outputs": [
    {
     "name": "stdout",
     "output_type": "stream",
     "text": [
      "True\n"
     ]
    }
   ],
   "source": [
    "print(a>=b)"
   ]
  },
  {
   "cell_type": "code",
   "execution_count": null,
   "id": "9484e2b7-1d2b-4a40-8a0a-5497b48433ce",
   "metadata": {},
   "outputs": [],
   "source": [
    "#Assignment operators"
   ]
  },
  {
   "cell_type": "code",
   "execution_count": 26,
   "id": "c6d44ced-07cf-4f3c-9041-9510584a754a",
   "metadata": {},
   "outputs": [
    {
     "name": "stdout",
     "output_type": "stream",
     "text": [
      "0\n"
     ]
    }
   ],
   "source": [
    "x=10\n",
    "x=x-5\n",
    "x-=5\n",
    "print(x)"
   ]
  },
  {
   "cell_type": "code",
   "execution_count": 27,
   "id": "494bf5dc-6c09-43e7-858d-9603e7700cd2",
   "metadata": {},
   "outputs": [
    {
     "name": "stdout",
     "output_type": "stream",
     "text": [
      "5\n"
     ]
    }
   ],
   "source": [
    "x+=5\n",
    "print(x)"
   ]
  },
  {
   "cell_type": "code",
   "execution_count": 28,
   "id": "d4e12321-b638-4061-8f11-87620dc86221",
   "metadata": {},
   "outputs": [
    {
     "name": "stdout",
     "output_type": "stream",
     "text": [
      "2.0\n"
     ]
    }
   ],
   "source": [
    "x=10\n",
    "x/=5\n",
    "print(x)"
   ]
  },
  {
   "cell_type": "code",
   "execution_count": 29,
   "id": "d7efafaf-ecf7-4e77-bc0b-87c9c57987fd",
   "metadata": {},
   "outputs": [
    {
     "name": "stdout",
     "output_type": "stream",
     "text": [
      "Hello Jaipur\n"
     ]
    }
   ],
   "source": [
    "print('Hello',end=' ')\n",
    "print('Jaipur')"
   ]
  },
  {
   "cell_type": "code",
   "execution_count": 30,
   "id": "909885ff-5ed4-492f-a892-85d2dac97c6b",
   "metadata": {},
   "outputs": [
    {
     "name": "stdout",
     "output_type": "stream",
     "text": [
      "jaipur\n",
      "102826\n"
     ]
    }
   ],
   "source": [
    "print('''jaipur\n",
    "102826''')"
   ]
  },
  {
   "cell_type": "code",
   "execution_count": 31,
   "id": "5a58f9a7-f94e-4896-bb59-50bdfd41da85",
   "metadata": {},
   "outputs": [
    {
     "data": {
      "text/plain": [
       "25"
      ]
     },
     "execution_count": 31,
     "metadata": {},
     "output_type": "execute_result"
    }
   ],
   "source": [
    "a=5\n",
    "b=2\n",
    "a**b"
   ]
  },
  {
   "cell_type": "code",
   "execution_count": 32,
   "id": "b2417164-f2b5-4fed-bbb3-10e398ac5a11",
   "metadata": {},
   "outputs": [
    {
     "name": "stdout",
     "output_type": "stream",
     "text": [
      "25\n"
     ]
    }
   ],
   "source": [
    "print(a**2)"
   ]
  },
  {
   "cell_type": "code",
   "execution_count": 33,
   "id": "752808b1-ba04-4663-bd53-0aa053c08e0b",
   "metadata": {},
   "outputs": [
    {
     "name": "stdout",
     "output_type": "stream",
     "text": [
      "a**2 is 25\n"
     ]
    }
   ],
   "source": [
    "print('a**2 is',a**2)"
   ]
  },
  {
   "cell_type": "code",
   "execution_count": null,
   "id": "354a0582-aa7a-4570-bcf6-0706dba7f6cf",
   "metadata": {},
   "outputs": [],
   "source": [
    "#Logical operator(and, or, not)"
   ]
  },
  {
   "cell_type": "code",
   "execution_count": 34,
   "id": "97beb390-8800-45aa-a090-17453956e610",
   "metadata": {},
   "outputs": [
    {
     "name": "stdout",
     "output_type": "stream",
     "text": [
      "False\n"
     ]
    }
   ],
   "source": [
    "a=True\n",
    "b=False\n",
    "print(a and b)"
   ]
  },
  {
   "cell_type": "code",
   "execution_count": 35,
   "id": "31486d88-af9e-4329-9c07-b820cd9f6dd6",
   "metadata": {},
   "outputs": [
    {
     "name": "stdout",
     "output_type": "stream",
     "text": [
      "True\n"
     ]
    }
   ],
   "source": [
    "print(a or b)"
   ]
  },
  {
   "cell_type": "code",
   "execution_count": 36,
   "id": "9d957684-74f2-4568-b069-fc8ddfe68ee5",
   "metadata": {},
   "outputs": [
    {
     "data": {
      "text/plain": [
       "False"
      ]
     },
     "execution_count": 36,
     "metadata": {},
     "output_type": "execute_result"
    }
   ],
   "source": [
    "not(a)"
   ]
  },
  {
   "cell_type": "code",
   "execution_count": 37,
   "id": "208fbea6-c01e-4393-b172-47ffd2e1c005",
   "metadata": {},
   "outputs": [
    {
     "name": "stdout",
     "output_type": "stream",
     "text": [
      "True\n"
     ]
    }
   ],
   "source": [
    "print(not(b))"
   ]
  },
  {
   "cell_type": "code",
   "execution_count": null,
   "id": "4aef352e-366d-4ee1-b334-dfd388b89326",
   "metadata": {},
   "outputs": [],
   "source": [
    "#Membership operator"
   ]
  },
  {
   "cell_type": "code",
   "execution_count": 38,
   "id": "01d3333b-8810-420b-9bf5-14c9161d4193",
   "metadata": {},
   "outputs": [
    {
     "data": {
      "text/plain": [
       "True"
      ]
     },
     "execution_count": 38,
     "metadata": {},
     "output_type": "execute_result"
    }
   ],
   "source": [
    "name='Anita'\n",
    "'ni' in name"
   ]
  },
  {
   "cell_type": "code",
   "execution_count": 39,
   "id": "28ea12f1-e30e-4167-a536-8924413df309",
   "metadata": {},
   "outputs": [
    {
     "data": {
      "text/plain": [
       "False"
      ]
     },
     "execution_count": 39,
     "metadata": {},
     "output_type": "execute_result"
    }
   ],
   "source": [
    "'NI' in name"
   ]
  },
  {
   "cell_type": "code",
   "execution_count": 40,
   "id": "acbfffdc-fb75-46ee-83c9-25ce735ebd7d",
   "metadata": {},
   "outputs": [
    {
     "data": {
      "text/plain": [
       "False"
      ]
     },
     "execution_count": 40,
     "metadata": {},
     "output_type": "execute_result"
    }
   ],
   "source": [
    "'z' in name"
   ]
  },
  {
   "cell_type": "code",
   "execution_count": 41,
   "id": "e30d841d-2d9e-45fb-9a94-e02fd2b766fa",
   "metadata": {},
   "outputs": [
    {
     "data": {
      "text/plain": [
       "True"
      ]
     },
     "execution_count": 41,
     "metadata": {},
     "output_type": "execute_result"
    }
   ],
   "source": [
    "'nit' in name"
   ]
  },
  {
   "cell_type": "code",
   "execution_count": 42,
   "id": "68f29aff-0296-4907-b100-f8696091fc6a",
   "metadata": {},
   "outputs": [
    {
     "data": {
      "text/plain": [
       "True"
      ]
     },
     "execution_count": 42,
     "metadata": {},
     "output_type": "execute_result"
    }
   ],
   "source": [
    "'An' in name"
   ]
  },
  {
   "cell_type": "code",
   "execution_count": 43,
   "id": "62985865-5e1e-420d-b106-1d38e47c1eff",
   "metadata": {},
   "outputs": [
    {
     "data": {
      "text/plain": [
       "False"
      ]
     },
     "execution_count": 43,
     "metadata": {},
     "output_type": "execute_result"
    }
   ],
   "source": [
    "'an' in name"
   ]
  },
  {
   "cell_type": "code",
   "execution_count": 44,
   "id": "7e1705a9-3bcc-48d8-b82f-5f49f518d5a3",
   "metadata": {},
   "outputs": [
    {
     "data": {
      "text/plain": [
       "False"
      ]
     },
     "execution_count": 44,
     "metadata": {},
     "output_type": "execute_result"
    }
   ],
   "source": [
    "'A i' in name"
   ]
  },
  {
   "cell_type": "code",
   "execution_count": null,
   "id": "1001eda4-4780-4bbc-8932-690b9d633616",
   "metadata": {},
   "outputs": [],
   "source": []
  }
 ],
 "metadata": {
  "kernelspec": {
   "display_name": "Python 3 (ipykernel)",
   "language": "python",
   "name": "python3"
  },
  "language_info": {
   "codemirror_mode": {
    "name": "ipython",
    "version": 3
   },
   "file_extension": ".py",
   "mimetype": "text/x-python",
   "name": "python",
   "nbconvert_exporter": "python",
   "pygments_lexer": "ipython3",
   "version": "3.11.5"
  }
 },
 "nbformat": 4,
 "nbformat_minor": 5
}
