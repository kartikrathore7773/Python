{
 "cells": [
  {
   "cell_type": "code",
   "execution_count": 1,
   "id": "20db8275",
   "metadata": {},
   "outputs": [
    {
     "name": "stdout",
     "output_type": "stream",
     "text": [
      "0\n",
      "1\n",
      "2\n",
      "3\n",
      "4\n"
     ]
    }
   ],
   "source": [
    "y=0\n",
    "while y<5:\n",
    "    print(y)\n",
    "    y+=1"
   ]
  },
  {
   "cell_type": "code",
   "execution_count": 1,
   "id": "b99c16c6",
   "metadata": {},
   "outputs": [
    {
     "name": "stdin",
     "output_type": "stream",
     "text": [
      " 6\n"
     ]
    },
    {
     "name": "stdout",
     "output_type": "stream",
     "text": [
      "a is greater than 5\n"
     ]
    }
   ],
   "source": [
    "#conditional statementes\n",
    "#if(condition)------used only 1 time\n",
    "#elif(condition)------used multiple times\n",
    "#else(no)------used only one time\n",
    "\n",
    "\n",
    "#user input\n",
    "#a=input()---string\n",
    "\n",
    "\n",
    "a=int(input())\n",
    "\n",
    "if a<5:\n",
    "    print('a is less than 5')\n",
    "elif a>5:\n",
    "    print('a is greater than 5')\n",
    "else:\n",
    "    print('a is equal to 5')\n",
    "    "
   ]
  },
  {
   "cell_type": "code",
   "execution_count": 10,
   "id": "3056bc4a",
   "metadata": {},
   "outputs": [
    {
     "name": "stdin",
     "output_type": "stream",
     "text": [
      " 2\n"
     ]
    },
    {
     "name": "stdout",
     "output_type": "stream",
     "text": [
      " 2 x 1 = 2\n",
      " 2 x 2 = 4\n",
      " 2 x 3 = 6\n",
      " 2 x 4 = 8\n",
      " 2 x 5 = 10\n",
      " 2 x 6 = 12\n",
      " 2 x 7 = 14\n",
      " 2 x 8 = 16\n",
      " 2 x 9 = 18\n",
      " 2 x 10 = 20\n"
     ]
    }
   ],
   "source": [
    "a=int(input())\n",
    "for i in range(1,11):\n",
    "    print(f' {a} x {i} =',i*a)"
   ]
  },
  {
   "cell_type": "code",
   "execution_count": null,
   "id": "2ec9078f-8abb-430d-a919-8a60d26c2247",
   "metadata": {},
   "outputs": [],
   "source": [
    "a=int(input())\n",
    "i=0\n",
    "while i<=10:\n",
    "    \n",
    "    print(f'{a} x {i} =',a*i)\n",
    "    i+=1"
   ]
  },
  {
   "cell_type": "code",
   "execution_count": null,
   "id": "55a5070b-6598-4f8a-98a5-ce9a460c6279",
   "metadata": {},
   "outputs": [],
   "source": []
  }
 ],
 "metadata": {
  "kernelspec": {
   "display_name": "Python 3 (ipykernel)",
   "language": "python",
   "name": "python3"
  },
  "language_info": {
   "codemirror_mode": {
    "name": "ipython",
    "version": 3
   },
   "file_extension": ".py",
   "mimetype": "text/x-python",
   "name": "python",
   "nbconvert_exporter": "python",
   "pygments_lexer": "ipython3",
   "version": "3.11.5"
  }
 },
 "nbformat": 4,
 "nbformat_minor": 5
}
