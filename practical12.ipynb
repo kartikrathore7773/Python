{
 "cells": [
  {
   "cell_type": "code",
   "execution_count": 1,
   "id": "57db8f1e-674c-449d-ab5b-017168c5d19e",
   "metadata": {},
   "outputs": [
    {
     "data": {
      "text/plain": [
       "11"
      ]
     },
     "execution_count": 1,
     "metadata": {},
     "output_type": "execute_result"
    }
   ],
   "source": [
    "#VARIABLE LENGTH\n",
    "#POSITIONAL variable\n",
    "#keyword variable\n",
    "#can pass many values while calling the function but in key value pair\n",
    "#need to pass the parameter with double stars(**) while forming the function\n",
    "\n",
    "def addition(*numbers):\n",
    "    return sum(numbers)\n",
    "\n",
    "addition(2,4,5)"
   ]
  },
  {
   "cell_type": "code",
   "execution_count": 1,
   "id": "fbd5638f-a305-4fbd-b47d-abe0d7879032",
   "metadata": {
    "scrolled": true
   },
   "outputs": [
    {
     "name": "stdout",
     "output_type": "stream",
     "text": [
      "name:kartik\n",
      "city:ajmer\n",
      "pincode:305206\n"
     ]
    }
   ],
   "source": [
    "def information(**info):\n",
    "    for key,value in info.items():\n",
    "        print(f'{key}:{value}')\n",
    "\n",
    "information(name='kartik',city='ajmer',pincode=305206)"
   ]
  },
  {
   "cell_type": "code",
   "execution_count": 7,
   "id": "16d9ecb1-aed6-4907-a818-ad90f1504548",
   "metadata": {},
   "outputs": [
    {
     "name": "stdout",
     "output_type": "stream",
     "text": [
      "employe_name:kartik\n",
      "employe_id:123\n",
      "employea_dress:xyz conlony\n"
     ]
    }
   ],
   "source": [
    "##keyword variable length\n",
    "def data(**employe):\n",
    "    for key,value in employe.items():\n",
    "        print(f'{key}:{value}')\n",
    "\n",
    "data(employe_name='kartik',employe_id=123,employea_dress='xyz conlony')"
   ]
  },
  {
   "cell_type": "code",
   "execution_count": 10,
   "id": "e497cbdb-5c62-4e5c-adb1-37e0ba2880b1",
   "metadata": {},
   "outputs": [],
   "source": [
    "#positional variable length\n"
   ]
  },
  {
   "cell_type": "code",
   "execution_count": null,
   "id": "5adb4e27-3d30-4267-bf80-08d5e9b131d3",
   "metadata": {},
   "outputs": [],
   "source": [
    "#types of fuctions\n",
    "#built in fuctions\n",
    "#user defined functions\n",
    "\n",
    "#built in functions\n",
    "#these are the functions that are predefined by the python and can be ued anytime\n",
    "#print() len()\n",
    "\n",
    "#user defined functions\n",
    "#these are the functions that we to define by using def keyword\n",
    "#we form these functions to reuse them anytime\n"
   ]
  },
  {
   "cell_type": "code",
   "execution_count": 11,
   "id": "bc6d34bc-574b-4037-bfbc-c940ad418cd1",
   "metadata": {},
   "outputs": [],
   "source": [
    "#scope of variables\n",
    "#local variables\n",
    "#global variables\n",
    "\n",
    "#local variables are those that are defined inside the function\n",
    "#local variables can be accesed only inside a function\n",
    "#Example\n",
    "#def Hello():\n",
    " #x=5\n",
    "\n",
    "#global variable are those that are defined outside the function\n",
    "#global variables can be accessed both inside and outside a function\n",
    "#Example\n",
    "\n",
    "#y=10\n",
    "\n",
    "#def Hello():\n",
    " #x=5\n",
    "#Here y is a global variable\n",
    "\n",
    "\n",
    "y=10\n",
    "def my_function():\n",
    "    x=5\n",
    "    print(x,y)\n"
   ]
  },
  {
   "cell_type": "code",
   "execution_count": 12,
   "id": "455734d8-f11d-4d6a-817b-890cb3dc75cf",
   "metadata": {},
   "outputs": [
    {
     "name": "stdout",
     "output_type": "stream",
     "text": [
      "5 10\n"
     ]
    }
   ],
   "source": [
    "my_function()"
   ]
  },
  {
   "cell_type": "code",
   "execution_count": 13,
   "id": "9f682b21-4fdf-486a-92ef-d0e393eabd35",
   "metadata": {},
   "outputs": [
    {
     "name": "stdout",
     "output_type": "stream",
     "text": [
      "10\n"
     ]
    }
   ],
   "source": [
    "print(y)"
   ]
  },
  {
   "cell_type": "code",
   "execution_count": 15,
   "id": "ad9c9188-f870-420b-a9e6-d34f96a33f3b",
   "metadata": {},
   "outputs": [],
   "source": [
    "#print(x)\n",
    "#show errpe for local variable"
   ]
  },
  {
   "cell_type": "code",
   "execution_count": 18,
   "id": "c7f99a4a-adc3-4155-a398-98c2e485fc6d",
   "metadata": {},
   "outputs": [],
   "source": [
    "y=8\n",
    "def my_function2():\n",
    "    y=3        #priority local variable\n",
    "    print(y)"
   ]
  },
  {
   "cell_type": "code",
   "execution_count": 17,
   "id": "f7640b75-6031-4d57-9f90-6de746720c81",
   "metadata": {},
   "outputs": [
    {
     "name": "stdout",
     "output_type": "stream",
     "text": [
      "3\n"
     ]
    }
   ],
   "source": [
    "my_function2()"
   ]
  },
  {
   "cell_type": "code",
   "execution_count": 19,
   "id": "fdc191aa-4985-427f-9b12-f490768e5992",
   "metadata": {},
   "outputs": [
    {
     "name": "stdout",
     "output_type": "stream",
     "text": [
      "8\n"
     ]
    }
   ],
   "source": [
    "print(y)"
   ]
  },
  {
   "cell_type": "code",
   "execution_count": 20,
   "id": "2830612b-8367-44d0-9e86-32e3759b393b",
   "metadata": {},
   "outputs": [],
   "source": [
    "#conversion of variables\n",
    "#global keyword\n",
    "def my_function3():\n",
    "    global x\n",
    "    x=8\n",
    "    print(x)"
   ]
  },
  {
   "cell_type": "code",
   "execution_count": 21,
   "id": "bd88c245-ff66-446a-9d14-566931961f13",
   "metadata": {},
   "outputs": [
    {
     "name": "stdout",
     "output_type": "stream",
     "text": [
      "8\n"
     ]
    }
   ],
   "source": [
    "my_function3()"
   ]
  },
  {
   "cell_type": "code",
   "execution_count": 22,
   "id": "29282dc8-22ec-44fa-93e8-20374239bb75",
   "metadata": {},
   "outputs": [
    {
     "name": "stdout",
     "output_type": "stream",
     "text": [
      "8\n"
     ]
    }
   ],
   "source": [
    "print(x)"
   ]
  },
  {
   "cell_type": "code",
   "execution_count": null,
   "id": "0d2c9d3c-8fa1-42a9-83ef-3203740c99a6",
   "metadata": {},
   "outputs": [],
   "source": []
  }
 ],
 "metadata": {
  "kernelspec": {
   "display_name": "Python 3 (ipykernel)",
   "language": "python",
   "name": "python3"
  },
  "language_info": {
   "codemirror_mode": {
    "name": "ipython",
    "version": 3
   },
   "file_extension": ".py",
   "mimetype": "text/x-python",
   "name": "python",
   "nbconvert_exporter": "python",
   "pygments_lexer": "ipython3",
   "version": "3.11.5"
  }
 },
 "nbformat": 4,
 "nbformat_minor": 5
}
