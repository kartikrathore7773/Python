{
 "cells": [
  {
   "cell_type": "code",
   "execution_count": 1,
   "id": "51350be3",
   "metadata": {},
   "outputs": [],
   "source": [
    "my_dict1=dict(name='kartik',city='jaipur',age=18,state='rajasthan',cource='web devlopment',pin=302017)"
   ]
  },
  {
   "cell_type": "code",
   "execution_count": 4,
   "id": "4e0fe996",
   "metadata": {},
   "outputs": [
    {
     "name": "stdout",
     "output_type": "stream",
     "text": [
      "kartik\n",
      "18\n"
     ]
    }
   ],
   "source": [
    "print(my_dict1['name'])     #for print the value from dictionary\n",
    "print(my_dict1['age'])\n"
   ]
  },
  {
   "cell_type": "code",
   "execution_count": 5,
   "id": "7f88ad8a",
   "metadata": {},
   "outputs": [],
   "source": [
    "  my_dict1['state']='gujrat'           #for updation"
   ]
  },
  {
   "cell_type": "code",
   "execution_count": 6,
   "id": "372f4b09",
   "metadata": {},
   "outputs": [
    {
     "name": "stdout",
     "output_type": "stream",
     "text": [
      "{'name': 'kartik', 'city': 'jaipur', 'age': 18, 'state': 'gujrat', 'cource': 'web devlopment', 'pin': 302017}\n"
     ]
    }
   ],
   "source": [
    "print(my_dict1)"
   ]
  },
  {
   "cell_type": "code",
   "execution_count": 7,
   "id": "2f7317b0",
   "metadata": {},
   "outputs": [],
   "source": [
    "my_dict2={'name':'kartik','city':'ajmer','state':'rajasthan'}\n"
   ]
  },
  {
   "cell_type": "code",
   "execution_count": 8,
   "id": "e74df821",
   "metadata": {},
   "outputs": [],
   "source": [
    "my_dict2['pincode']=303939"
   ]
  },
  {
   "cell_type": "code",
   "execution_count": 9,
   "id": "e3fb447e",
   "metadata": {},
   "outputs": [
    {
     "name": "stdout",
     "output_type": "stream",
     "text": [
      "{'name': 'kartik', 'city': 'ajmer', 'state': 'rajasthan', 'pincode': 303939}\n"
     ]
    }
   ],
   "source": [
    "print(my_dict2)"
   ]
  },
  {
   "cell_type": "code",
   "execution_count": 10,
   "id": "96ea8197",
   "metadata": {},
   "outputs": [],
   "source": [
    "my_dict2['State']='RJ'"
   ]
  },
  {
   "cell_type": "code",
   "execution_count": 11,
   "id": "c2bc877d",
   "metadata": {},
   "outputs": [
    {
     "name": "stdout",
     "output_type": "stream",
     "text": [
      "{'name': 'kartik', 'city': 'ajmer', 'state': 'rajasthan', 'pincode': 303939, 'State': 'RJ'}\n"
     ]
    }
   ],
   "source": [
    "print(my_dict2)"
   ]
  },
  {
   "cell_type": "code",
   "execution_count": 12,
   "id": "25c0b25b",
   "metadata": {},
   "outputs": [
    {
     "name": "stdout",
     "output_type": "stream",
     "text": [
      "dict_keys(['name', 'city', 'state', 'pincode', 'State'])\n"
     ]
    }
   ],
   "source": [
    "#built in methods\n",
    "#keys()\n",
    "#values()\n",
    "#items()\n",
    "\n",
    "print(my_dict2.keys())"
   ]
  },
  {
   "cell_type": "code",
   "execution_count": 13,
   "id": "aacbac35",
   "metadata": {},
   "outputs": [
    {
     "name": "stdout",
     "output_type": "stream",
     "text": [
      "dict_values(['kartik', 'ajmer', 'rajasthan', 303939, 'RJ'])\n"
     ]
    }
   ],
   "source": [
    "print(my_dict2.values())"
   ]
  },
  {
   "cell_type": "code",
   "execution_count": 14,
   "id": "c8b717fd",
   "metadata": {
    "scrolled": true
   },
   "outputs": [
    {
     "name": "stdout",
     "output_type": "stream",
     "text": [
      "dict_items([('name', 'kartik'), ('city', 'ajmer'), ('state', 'rajasthan'), ('pincode', 303939), ('State', 'RJ')])\n"
     ]
    }
   ],
   "source": [
    "print(my_dict2.items())"
   ]
  },
  {
   "cell_type": "code",
   "execution_count": 15,
   "id": "ed975a26",
   "metadata": {},
   "outputs": [],
   "source": [
    "#update    #adds multiple key value pairs /another dictionary in the existing dictionary \n",
    "\n",
    "#clear\n",
    "\n",
    "my_dict2.update({'hbcdh':'xjnsjx','sjbcddjhb':'sjbxj'})"
   ]
  },
  {
   "cell_type": "code",
   "execution_count": 16,
   "id": "45bf98a4",
   "metadata": {},
   "outputs": [
    {
     "name": "stdout",
     "output_type": "stream",
     "text": [
      "{'name': 'kartik', 'city': 'ajmer', 'state': 'rajasthan', 'pincode': 303939, 'State': 'RJ', 'hbcdh': 'xjnsjx', 'sjbcddjhb': 'sjbxj'}\n"
     ]
    }
   ],
   "source": [
    "print(my_dict2)"
   ]
  },
  {
   "cell_type": "code",
   "execution_count": 17,
   "id": "b502d5ec",
   "metadata": {},
   "outputs": [],
   "source": [
    "my_dict2.clear()   #will delete the elementes of the dictionary but the structure of the dictionary will stay in its place"
   ]
  },
  {
   "cell_type": "code",
   "execution_count": 18,
   "id": "e8e691b1",
   "metadata": {},
   "outputs": [
    {
     "name": "stdout",
     "output_type": "stream",
     "text": [
      "{}\n"
     ]
    }
   ],
   "source": [
    "print(my_dict2)"
   ]
  },
  {
   "cell_type": "code",
   "execution_count": 19,
   "id": "96b4ff5f",
   "metadata": {},
   "outputs": [],
   "source": [
    "my_dict3={'name':'kartik','class':'12'}"
   ]
  },
  {
   "cell_type": "code",
   "execution_count": 20,
   "id": "e50df52a",
   "metadata": {},
   "outputs": [],
   "source": [
    "del my_dict3['class']        #delete keyword can remove any key"
   ]
  },
  {
   "cell_type": "code",
   "execution_count": 21,
   "id": "c647e7ff",
   "metadata": {},
   "outputs": [
    {
     "name": "stdout",
     "output_type": "stream",
     "text": [
      "{'name': 'kartik'}\n"
     ]
    }
   ],
   "source": [
    "print(my_dict3)"
   ]
  },
  {
   "cell_type": "code",
   "execution_count": 22,
   "id": "0e5f220d",
   "metadata": {},
   "outputs": [],
   "source": [
    "dt={'dcdx':'ddcd','sdcd':'sncs'}\n",
    "a=dt.pop('dcdx')"
   ]
  },
  {
   "cell_type": "code",
   "execution_count": 23,
   "id": "55b0a32d",
   "metadata": {},
   "outputs": [
    {
     "name": "stdout",
     "output_type": "stream",
     "text": [
      "{'sdcd': 'sncs'}\n"
     ]
    }
   ],
   "source": [
    "print(dt)"
   ]
  },
  {
   "cell_type": "code",
   "execution_count": 24,
   "id": "37b1be73",
   "metadata": {},
   "outputs": [
    {
     "data": {
      "text/plain": [
       "'ddcd'"
      ]
     },
     "execution_count": 24,
     "metadata": {},
     "output_type": "execute_result"
    }
   ],
   "source": [
    "a"
   ]
  },
  {
   "cell_type": "code",
   "execution_count": 25,
   "id": "176d3171",
   "metadata": {},
   "outputs": [],
   "source": [
    "#Boolean data types\n",
    "#True/False\n",
    "\n",
    "is_passed=True\n",
    "\n",
    "\n",
    "can_vote=False\n",
    "\n"
   ]
  },
  {
   "cell_type": "code",
   "execution_count": null,
   "id": "5a5841c7",
   "metadata": {},
   "outputs": [],
   "source": [
    "#None datatype\n",
    "#None\n",
    "\n",
    "marks=None"
   ]
  }
 ],
 "metadata": {
  "kernelspec": {
   "display_name": "Python 3 (ipykernel)",
   "language": "python",
   "name": "python3"
  },
  "language_info": {
   "codemirror_mode": {
    "name": "ipython",
    "version": 3
   },
   "file_extension": ".py",
   "mimetype": "text/x-python",
   "name": "python",
   "nbconvert_exporter": "python",
   "pygments_lexer": "ipython3",
   "version": "3.11.5"
  }
 },
 "nbformat": 4,
 "nbformat_minor": 5
}
